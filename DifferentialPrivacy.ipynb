{
  "cells": [
    {
      "cell_type": "code",
      "execution_count": null,
      "metadata": {
        "id": "4TUMN-HJYBgK"
      },
      "outputs": [],
      "source": [
        "!pip install diffprivlib"
      ]
    },
    {
      "cell_type": "code",
      "execution_count": null,
      "metadata": {
        "id": "0gos_8qeZbPf"
      },
      "outputs": [],
      "source": [
        "import numpy as np\n",
        "import pandas as pd\n",
        "from sklearn.model_selection import train_test_split\n",
        "from sklearn.preprocessing import MinMaxScaler\n",
        "import diffprivlib.models as dp\n",
        "from sklearn.linear_model import LinearRegression\n"
      ]
    },
    {
      "cell_type": "code",
      "execution_count": null,
      "metadata": {
        "id": "wdZbMcvCOTHp"
      },
      "outputs": [],
      "source": [
        "from sklearn import datasets\n",
        "from sklearn.model_selection import train_test_split\n",
        "from sklearn import linear_model\n",
        "\n",
        "dataset = datasets.load_iris()\n",
        "X_train, X_test, y_train, y_test = train_test_split(dataset.data, dataset.target, test_size=0.2)\n"
      ]
    },
    {
      "cell_type": "code",
      "execution_count": null,
      "metadata": {
        "id": "Ljd7weaoOpvH"
      },
      "outputs": [],
      "source": [
        "X_train.shape"
      ]
    },
    {
      "cell_type": "code",
      "execution_count": null,
      "metadata": {
        "id": "QXGeb-sFPUge"
      },
      "outputs": [],
      "source": [
        "X_train.max(0)"
      ]
    },
    {
      "cell_type": "code",
      "execution_count": null,
      "metadata": {
        "id": "VJCWVWTCOVhf"
      },
      "outputs": [],
      "source": []
    },
    {
      "cell_type": "code",
      "execution_count": null,
      "metadata": {
        "colab": {
          "base_uri": "https://localhost:8080/"
        },
        "id": "S8QiJJxgRquI",
        "outputId": "a1a5d34a-8663-454d-cd58-ebe6e3b9114e"
      },
      "outputs": [
        {
          "output_type": "stream",
          "name": "stdout",
          "text": [
            "Drive already mounted at /content/drive; to attempt to forcibly remount, call drive.mount(\"/content/drive\", force_remount=True).\n"
          ]
        }
      ],
      "source": [
        "from google.colab import drive\n",
        "drive.mount('/content/drive')"
      ]
    },
    {
      "cell_type": "code",
      "execution_count": null,
      "metadata": {
        "id": "SfJSt6J1P0hH"
      },
      "outputs": [],
      "source": [
        "import pandas as pd\n",
        "import numpy as np"
      ]
    },
    {
      "cell_type": "code",
      "execution_count": null,
      "metadata": {
        "id": "f3EqJjjiRORl"
      },
      "outputs": [],
      "source": [
        "## reading the data from each client\n",
        "K = 25 # as we have 25 clients\n",
        "\n",
        "clients = {} # dictionary\n",
        "clients_cut = {}\n",
        "for st_code in range(101,126):\n",
        "    clients[st_code] = pd.read_csv(\"/content/drive/MyDrive/Colab Notebooks/dataNew/station_code\"+str(st_code)+\".csv\", index_col = 0)\n",
        "\n",
        "    clients[st_code]['Measurement date'] = pd.to_datetime(clients[st_code]['Measurement date'])\n",
        "    clients[st_code]['st_code'] = st_code\n",
        "\n",
        "    clients[st_code]['year'] = clients[st_code]['Measurement date'].dt.year\n",
        "    clients[st_code]['month'] = clients[st_code]['Measurement date'].dt.month\n",
        "    clients[st_code]['week'] = clients[st_code]['Measurement date'].dt.week\n",
        "    clients[st_code]['day'] = clients[st_code]['Measurement date'].dt.day\n",
        "    clients[st_code]['hour'] = clients[st_code]['Measurement date'].dt.hour\n",
        "    clients[st_code]['minute'] = clients[st_code]['Measurement date'].dt.minute # minute is not significant; as only 0 values\n",
        "    clients[st_code]['dayOfWeek'] = clients[st_code]['Measurement date'].dt.dayofweek\n",
        "\n",
        "    # choosing features\n",
        "    clients[st_code] = clients[st_code][['st_code','Latitude', 'Longitude','year', 'month', 'week', 'day', 'hour', 'dayOfWeek', 'CO']]\n",
        "\n",
        "    clients[st_code].drop(clients[st_code][clients[st_code]['CO'] < 0].index, axis=0, inplace=True)\n",
        "\n",
        "\n",
        "# complete dataset\n",
        "frames = list(clients.values())\n",
        "dataset = pd.concat(frames)\n",
        "# display(dataset)"
      ]
    },
    {
      "cell_type": "code",
      "execution_count": null,
      "metadata": {
        "colab": {
          "base_uri": "https://localhost:8080/"
        },
        "id": "fyHPyk5lWAXr",
        "outputId": "df2b02dd-0945-4ee1-f07d-10aa0b9a78a9"
      },
      "outputs": [
        {
          "output_type": "execute_result",
          "data": {
            "text/plain": [
              "array([101, 102, 103, 104, 105, 106, 107, 108, 109, 110, 111, 112, 113,\n",
              "       114, 115, 116, 117, 118, 119, 120, 121, 122, 123, 124, 125])"
            ]
          },
          "metadata": {},
          "execution_count": 8
        }
      ],
      "source": [
        "np.unique(dataset['st_code'])"
      ]
    },
    {
      "cell_type": "code",
      "execution_count": null,
      "metadata": {
        "id": "ww9hbHW4WRiO"
      },
      "outputs": [],
      "source": [
        "dataset.drop(columns=['st_code'], inplace=True)"
      ]
    },
    {
      "cell_type": "code",
      "execution_count": null,
      "metadata": {
        "id": "5gmU2knERnL3"
      },
      "outputs": [],
      "source": [
        "dataset.max(0)"
      ]
    },
    {
      "cell_type": "code",
      "execution_count": null,
      "metadata": {
        "id": "B_Ie7EvMe8dQ"
      },
      "outputs": [],
      "source": [
        "dataset.count()"
      ]
    },
    {
      "cell_type": "code",
      "execution_count": null,
      "metadata": {
        "id": "IYqoxsCsglK-"
      },
      "outputs": [],
      "source": [
        "dataset.corr()"
      ]
    },
    {
      "cell_type": "code",
      "execution_count": null,
      "metadata": {
        "id": "V89Vs0d7XSVH"
      },
      "outputs": [],
      "source": [
        "# import modules\n",
        "import matplotlib.pyplot as mp\n",
        "import seaborn as sb\n",
        "def heatcor(df):\n",
        "  # plotting correlation heatmap\n",
        "  dataplot = sb.heatmap(round(df.corr(),3), cmap=\"YlGnBu\", annot=True)\n",
        "\n",
        "  # displaying heatmap\n",
        "  mp.show()\n"
      ]
    },
    {
      "cell_type": "code",
      "execution_count": null,
      "metadata": {
        "id": "VlNpe4IiXySH"
      },
      "outputs": [],
      "source": [
        "# two new datasets\n",
        "dataset_m = dataset.drop(columns='week')\n",
        "dataset_w = dataset.drop(columns='month')"
      ]
    },
    {
      "cell_type": "code",
      "execution_count": null,
      "metadata": {
        "id": "rzyPftxRX-Is"
      },
      "outputs": [],
      "source": [
        "heatcor(dataset_m)"
      ]
    },
    {
      "cell_type": "code",
      "execution_count": null,
      "metadata": {
        "id": "K0s3sHwTYQOS"
      },
      "outputs": [],
      "source": [
        "heatcor(dataset_w)"
      ]
    },
    {
      "cell_type": "code",
      "execution_count": null,
      "metadata": {
        "id": "WW-cPjRtcIXz"
      },
      "outputs": [],
      "source": [
        "dataset_m.describe()"
      ]
    },
    {
      "cell_type": "markdown",
      "metadata": {
        "id": "tbK6r5gSizpN"
      },
      "source": [
        "###### Logistic Regression Implementation Without Privacy"
      ]
    },
    {
      "cell_type": "code",
      "execution_count": null,
      "metadata": {
        "colab": {
          "base_uri": "https://localhost:8080/",
          "height": 519
        },
        "id": "NYRdqrBLi6U7",
        "outputId": "20d5460c-f9b5-42d1-a5bd-70e2e868c633"
      },
      "outputs": [
        {
          "ename": "KeyError",
          "evalue": "ignored",
          "output_type": "error",
          "traceback": [
            "\u001b[0;31m---------------------------------------------------------------------------\u001b[0m",
            "\u001b[0;31mKeyError\u001b[0m                                  Traceback (most recent call last)",
            "\u001b[0;32m/usr/local/lib/python3.10/dist-packages/pandas/core/indexes/base.py\u001b[0m in \u001b[0;36mget_loc\u001b[0;34m(self, key, method, tolerance)\u001b[0m\n\u001b[1;32m   3801\u001b[0m             \u001b[0;32mtry\u001b[0m\u001b[0;34m:\u001b[0m\u001b[0;34m\u001b[0m\u001b[0;34m\u001b[0m\u001b[0m\n\u001b[0;32m-> 3802\u001b[0;31m                 \u001b[0;32mreturn\u001b[0m \u001b[0mself\u001b[0m\u001b[0;34m.\u001b[0m\u001b[0m_engine\u001b[0m\u001b[0;34m.\u001b[0m\u001b[0mget_loc\u001b[0m\u001b[0;34m(\u001b[0m\u001b[0mcasted_key\u001b[0m\u001b[0;34m)\u001b[0m\u001b[0;34m\u001b[0m\u001b[0;34m\u001b[0m\u001b[0m\n\u001b[0m\u001b[1;32m   3803\u001b[0m             \u001b[0;32mexcept\u001b[0m \u001b[0mKeyError\u001b[0m \u001b[0;32mas\u001b[0m \u001b[0merr\u001b[0m\u001b[0;34m:\u001b[0m\u001b[0;34m\u001b[0m\u001b[0;34m\u001b[0m\u001b[0m\n",
            "\u001b[0;32m/usr/local/lib/python3.10/dist-packages/pandas/_libs/index.pyx\u001b[0m in \u001b[0;36mpandas._libs.index.IndexEngine.get_loc\u001b[0;34m()\u001b[0m\n",
            "\u001b[0;32m/usr/local/lib/python3.10/dist-packages/pandas/_libs/index.pyx\u001b[0m in \u001b[0;36mpandas._libs.index.IndexEngine.get_loc\u001b[0;34m()\u001b[0m\n",
            "\u001b[0;32mpandas/_libs/hashtable_class_helper.pxi\u001b[0m in \u001b[0;36mpandas._libs.hashtable.PyObjectHashTable.get_item\u001b[0;34m()\u001b[0m\n",
            "\u001b[0;32mpandas/_libs/hashtable_class_helper.pxi\u001b[0m in \u001b[0;36mpandas._libs.hashtable.PyObjectHashTable.get_item\u001b[0;34m()\u001b[0m\n",
            "\u001b[0;31mKeyError\u001b[0m: 'CO'",
            "\nThe above exception was the direct cause of the following exception:\n",
            "\u001b[0;31mKeyError\u001b[0m                                  Traceback (most recent call last)",
            "\u001b[0;32m<ipython-input-26-0572bb5d1cdd>\u001b[0m in \u001b[0;36m<cell line: 9>\u001b[0;34m()\u001b[0m\n\u001b[1;32m      7\u001b[0m \u001b[0;34m\u001b[0m\u001b[0m\n\u001b[1;32m      8\u001b[0m \u001b[0;34m\u001b[0m\u001b[0m\n\u001b[0;32m----> 9\u001b[0;31m \u001b[0mX\u001b[0m\u001b[0;34m,\u001b[0m \u001b[0my\u001b[0m \u001b[0;34m=\u001b[0m \u001b[0mdataset\u001b[0m\u001b[0;34m[\u001b[0m\u001b[0;34m[\u001b[0m\u001b[0;34m'Latitude'\u001b[0m\u001b[0;34m,\u001b[0m \u001b[0;34m'Longitude'\u001b[0m\u001b[0;34m,\u001b[0m\u001b[0;34m'year'\u001b[0m\u001b[0;34m,\u001b[0m \u001b[0;34m'month'\u001b[0m\u001b[0;34m,\u001b[0m \u001b[0;34m'week'\u001b[0m\u001b[0;34m,\u001b[0m \u001b[0;34m'day'\u001b[0m\u001b[0;34m,\u001b[0m \u001b[0;34m'hour'\u001b[0m\u001b[0;34m,\u001b[0m \u001b[0;34m'dayOfWeek'\u001b[0m\u001b[0;34m]\u001b[0m\u001b[0;34m]\u001b[0m\u001b[0;34m,\u001b[0m  \u001b[0mdataset\u001b[0m\u001b[0;34m[\u001b[0m\u001b[0;34m'CO'\u001b[0m\u001b[0;34m]\u001b[0m\u001b[0;34m\u001b[0m\u001b[0;34m\u001b[0m\u001b[0m\n\u001b[0m\u001b[1;32m     10\u001b[0m \u001b[0;34m\u001b[0m\u001b[0m\n\u001b[1;32m     11\u001b[0m \u001b[0mx_train\u001b[0m\u001b[0;34m,\u001b[0m \u001b[0mx_val\u001b[0m\u001b[0;34m,\u001b[0m \u001b[0my_train\u001b[0m\u001b[0;34m,\u001b[0m \u001b[0my_val\u001b[0m \u001b[0;34m=\u001b[0m \u001b[0mtrain_test_split\u001b[0m\u001b[0;34m(\u001b[0m\u001b[0mX\u001b[0m\u001b[0;34m,\u001b[0m \u001b[0my\u001b[0m\u001b[0;34m,\u001b[0m \u001b[0mtest_size\u001b[0m \u001b[0;34m=\u001b[0m \u001b[0;36m0.2\u001b[0m\u001b[0;34m,\u001b[0m \u001b[0mrandom_state\u001b[0m\u001b[0;34m=\u001b[0m\u001b[0;36m1\u001b[0m\u001b[0;34m)\u001b[0m\u001b[0;34m\u001b[0m\u001b[0;34m\u001b[0m\u001b[0m\n",
            "\u001b[0;32m/usr/local/lib/python3.10/dist-packages/pandas/core/frame.py\u001b[0m in \u001b[0;36m__getitem__\u001b[0;34m(self, key)\u001b[0m\n\u001b[1;32m   3805\u001b[0m             \u001b[0;32mif\u001b[0m \u001b[0mself\u001b[0m\u001b[0;34m.\u001b[0m\u001b[0mcolumns\u001b[0m\u001b[0;34m.\u001b[0m\u001b[0mnlevels\u001b[0m \u001b[0;34m>\u001b[0m \u001b[0;36m1\u001b[0m\u001b[0;34m:\u001b[0m\u001b[0;34m\u001b[0m\u001b[0;34m\u001b[0m\u001b[0m\n\u001b[1;32m   3806\u001b[0m                 \u001b[0;32mreturn\u001b[0m \u001b[0mself\u001b[0m\u001b[0;34m.\u001b[0m\u001b[0m_getitem_multilevel\u001b[0m\u001b[0;34m(\u001b[0m\u001b[0mkey\u001b[0m\u001b[0;34m)\u001b[0m\u001b[0;34m\u001b[0m\u001b[0;34m\u001b[0m\u001b[0m\n\u001b[0;32m-> 3807\u001b[0;31m             \u001b[0mindexer\u001b[0m \u001b[0;34m=\u001b[0m \u001b[0mself\u001b[0m\u001b[0;34m.\u001b[0m\u001b[0mcolumns\u001b[0m\u001b[0;34m.\u001b[0m\u001b[0mget_loc\u001b[0m\u001b[0;34m(\u001b[0m\u001b[0mkey\u001b[0m\u001b[0;34m)\u001b[0m\u001b[0;34m\u001b[0m\u001b[0;34m\u001b[0m\u001b[0m\n\u001b[0m\u001b[1;32m   3808\u001b[0m             \u001b[0;32mif\u001b[0m \u001b[0mis_integer\u001b[0m\u001b[0;34m(\u001b[0m\u001b[0mindexer\u001b[0m\u001b[0;34m)\u001b[0m\u001b[0;34m:\u001b[0m\u001b[0;34m\u001b[0m\u001b[0;34m\u001b[0m\u001b[0m\n\u001b[1;32m   3809\u001b[0m                 \u001b[0mindexer\u001b[0m \u001b[0;34m=\u001b[0m \u001b[0;34m[\u001b[0m\u001b[0mindexer\u001b[0m\u001b[0;34m]\u001b[0m\u001b[0;34m\u001b[0m\u001b[0;34m\u001b[0m\u001b[0m\n",
            "\u001b[0;32m/usr/local/lib/python3.10/dist-packages/pandas/core/indexes/base.py\u001b[0m in \u001b[0;36mget_loc\u001b[0;34m(self, key, method, tolerance)\u001b[0m\n\u001b[1;32m   3802\u001b[0m                 \u001b[0;32mreturn\u001b[0m \u001b[0mself\u001b[0m\u001b[0;34m.\u001b[0m\u001b[0m_engine\u001b[0m\u001b[0;34m.\u001b[0m\u001b[0mget_loc\u001b[0m\u001b[0;34m(\u001b[0m\u001b[0mcasted_key\u001b[0m\u001b[0;34m)\u001b[0m\u001b[0;34m\u001b[0m\u001b[0;34m\u001b[0m\u001b[0m\n\u001b[1;32m   3803\u001b[0m             \u001b[0;32mexcept\u001b[0m \u001b[0mKeyError\u001b[0m \u001b[0;32mas\u001b[0m \u001b[0merr\u001b[0m\u001b[0;34m:\u001b[0m\u001b[0;34m\u001b[0m\u001b[0;34m\u001b[0m\u001b[0m\n\u001b[0;32m-> 3804\u001b[0;31m                 \u001b[0;32mraise\u001b[0m \u001b[0mKeyError\u001b[0m\u001b[0;34m(\u001b[0m\u001b[0mkey\u001b[0m\u001b[0;34m)\u001b[0m \u001b[0;32mfrom\u001b[0m \u001b[0merr\u001b[0m\u001b[0;34m\u001b[0m\u001b[0;34m\u001b[0m\u001b[0m\n\u001b[0m\u001b[1;32m   3805\u001b[0m             \u001b[0;32mexcept\u001b[0m \u001b[0mTypeError\u001b[0m\u001b[0;34m:\u001b[0m\u001b[0;34m\u001b[0m\u001b[0;34m\u001b[0m\u001b[0m\n\u001b[1;32m   3806\u001b[0m                 \u001b[0;31m# If we have a listlike key, _check_indexing_error will raise\u001b[0m\u001b[0;34m\u001b[0m\u001b[0;34m\u001b[0m\u001b[0m\n",
            "\u001b[0;31mKeyError\u001b[0m: 'CO'"
          ]
        }
      ],
      "source": [
        "# import numpy as np\n",
        "# import pandas as pd\n",
        "# from sklearn.model_selection import train_test_split\n",
        "# from sklearn.preprocessing import MinMaxScaler\n",
        "# import diffprivlib.models as dp\n",
        "# from sklearn.linear_model import LogisticRegression\n",
        "\n",
        "\n",
        "# X, y = dataset[['Latitude', 'Longitude','year', 'month', 'week', 'day', 'hour', 'dayOfWeek']],  dataset['CO']\n",
        "\n",
        "# x_train, x_val, y_train, y_val = train_test_split(X, y, test_size = 0.2, random_state=1)\n",
        "\n",
        "# clf = LogisticRegression(solver=\"lbfgs\")\n",
        "# clf.fit(x_train, y_train)\n",
        "# baseline = clf.score(X_test, y_test)\n",
        "# print(\"Non-private test accuracy: %.2f%%\" % (baseline * 100))\n",
        "\n"
      ]
    },
    {
      "cell_type": "code",
      "execution_count": null,
      "metadata": {
        "id": "GgFSyA08-yJ4"
      },
      "outputs": [],
      "source": []
    },
    {
      "cell_type": "markdown",
      "metadata": {
        "id": "2N8UOs5957Fu"
      },
      "source": [
        "# Linear Regression Non Private"
      ]
    },
    {
      "cell_type": "code",
      "execution_count": null,
      "metadata": {
        "id": "ZI2XW4sxZJyo"
      },
      "outputs": [],
      "source": [
        "# dataset_m\n",
        "# preprocessing\n",
        "\n",
        "#1. train test splits\n",
        "X, y = dataset_m[['Latitude', 'Longitude','year', 'month','day', 'hour', 'dayOfWeek']],  dataset_m['CO']\n",
        "x_train, x_test, y_train, y_test = train_test_split(X, y, test_size = 0.2, random_state=1)\n",
        "\n",
        "#2. Feature Scaling\n",
        "scaler_cols = x_train.columns\n",
        "scaler_idx_train = x_train.index\n",
        "scaler_idx_test = x_test.index\n",
        "\n",
        "# from sklearn.preprocessing import MinMaxScaler\n",
        "scaler = MinMaxScaler()\n",
        "\n",
        "# transforming train data\n",
        "x_train_encoded_scaled = pd.DataFrame(scaler.fit_transform(x_train), columns = scaler_cols, index=scaler_idx_train)\n",
        "# display(x_train_encoded_scaled.head())\n",
        "\n",
        "# transforming test data\n",
        "x_test_encoded_scaled = pd.DataFrame(scaler.transform(x_test), columns = scaler_cols, index = scaler_idx_test)\n",
        "# display(x_test_encoded_scaled.head())\n"
      ]
    },
    {
      "cell_type": "code",
      "source": [
        "def getDataAccordingToLossP(loss_p, gas):\n",
        "  X, y = dataset_m[['Latitude', 'Longitude','year', 'month','day', 'hour', 'dayOfWeek']],  dataset_m[gas]\n",
        "  x_train, x_test, y_train, y_test = train_test_split(X, y, test_size = loss_p, random_state=1)\n",
        "  #2. Feature Scaling\n",
        "  scaler_cols = x_train.columns\n",
        "  scaler_idx_train = x_train.index\n",
        "  scaler_idx_test = x_test.index\n",
        "\n",
        "  # from sklearn.preprocessing import MinMaxScaler\n",
        "  scaler = MinMaxScaler()\n",
        "\n",
        "  # transforming train data\n",
        "  x_train_encoded_scaled = pd.DataFrame(scaler.fit_transform(x_train), columns = scaler_cols, index=scaler_idx_train)\n",
        "  # display(x_train_encoded_scaled.head())\n",
        "\n",
        "  # transforming test data\n",
        "  x_test_encoded_scaled = pd.DataFrame(scaler.transform(x_test), columns = scaler_cols, index = scaler_idx_test)\n",
        "  # display(x_test_encoded_scaled.head())\n",
        "  return x_train_encoded_scaled,x_test_encoded_scaled,y_train, y_test\n"
      ],
      "metadata": {
        "id": "_Ic5qJPJt9d1"
      },
      "execution_count": null,
      "outputs": []
    },
    {
      "cell_type": "code",
      "execution_count": null,
      "metadata": {
        "id": "0t1hl0LGY76V"
      },
      "outputs": [],
      "source": [
        "import statsmodels.api as sm\n",
        "np.random.seed(9876789)\n",
        "\n",
        "X_reg = sm.add_constant(x_train_encoded_scaled)\n",
        "# y = np.dot(X, beta) + e\n",
        "\n",
        "\n",
        "model = sm.OLS(y_train, X_reg)\n",
        "results = model.fit()\n",
        "\n",
        "X_reg_test = sm.add_constant(x_test_encoded_scaled)\n",
        "# y_pred = model.predict(X_reg)\n",
        "results.summary()"
      ]
    },
    {
      "cell_type": "code",
      "execution_count": null,
      "metadata": {
        "id": "rnGbzaV0-2GL"
      },
      "outputs": [],
      "source": [
        "# regr = LinearRegression()\n",
        "# regr.fit(x_train_encoded_scaled, y_train)\n",
        "# y_pred_train = regr.predict(x_train_encoded_scaled)\n",
        "# y_pred = regr.predict(x_test_encoded_scaled)\n",
        "# baseline = round(regr.score(x_train_encoded_scaled, y_train),4)\n",
        "# baseline = 0.014\n",
        "# print(\"Non-private baseline R2 score: %.2f\" % baseline)"
      ]
    },
    {
      "cell_type": "code",
      "execution_count": null,
      "metadata": {
        "colab": {
          "base_uri": "https://localhost:8080/"
        },
        "id": "VQeo7PiGolUh",
        "outputId": "2625ac0e-dced-4e73-bc71-c09ef49164c3"
      },
      "outputs": [
        {
          "output_type": "stream",
          "name": "stdout",
          "text": [
            "train mse: 1941.7861820650257\n",
            " test mse: 1780.9791337691263\n"
          ]
        }
      ],
      "source": [
        "\n",
        "# from sklearn.metrics import mean_squared_error\n",
        "# mse = mean_squared_error(y_pred, y_test)\n",
        "# mse_train = mean_squared_error(y_pred_train, y_train)\n",
        "# print(\"train mse: {}\\n test mse: {}\".format(mse_train, mse))"
      ]
    },
    {
      "cell_type": "code",
      "execution_count": null,
      "metadata": {
        "colab": {
          "base_uri": "https://localhost:8080/"
        },
        "id": "gFmvfxSRKDbA",
        "outputId": "4bb3f16a-aa7e-4f46-d699-da932ab41ded"
      },
      "outputs": [
        {
          "output_type": "stream",
          "name": "stdout",
          "text": [
            "train mae: 15.266585953625942\n",
            " test mae: 15.209978284823624\n",
            "0.5954037601418154\n"
          ]
        }
      ],
      "source": [
        "# from sklearn.metrics import mean_absolute_error\n",
        "# mae = mean_absolute_error(y_test, y_pred)\n",
        "# nmae = mae/np.mean(y_test)\n",
        "# mae_train = mean_absolute_error(y_train, y_pred_train)\n",
        "# print(\"train mae: {}\\n test mae: {}\".format(mae_train, mae))\n",
        "# print(nmae)"
      ]
    },
    {
      "cell_type": "markdown",
      "source": [
        "Non Private LR with NMAE"
      ],
      "metadata": {
        "id": "8BuP7nr4qcj8"
      }
    },
    {
      "cell_type": "code",
      "source": [
        "from sklearn.metrics import mean_absolute_error\n",
        "loss_prob = [0.1, 0.2, 0.3, 0.4, 0.5, 0.6, 0.7, 0.8, 0.9]\n",
        "nmae_nonpr_train = []\n",
        "nmae_nonpr_test = []\n",
        "regr_nonprivate = LinearRegression()\n",
        "gas='CO'\n",
        "\n",
        "for loss_p in loss_prob:\n",
        "  x_train_encoded_scaled,x_test_encoded_scaled,y_train, y_test =getDataAccordingToLossP(loss_p, gas)\n",
        "  regr_nonprivate.fit(x_train_encoded_scaled, y_train)\n",
        "\n",
        "  y_pred_nonpri_train = regr_nonprivate.predict(x_train_encoded_scaled)\n",
        "  y_pred_nonpri_test = regr_nonprivate.predict(x_test_encoded_scaled)\n",
        "\n",
        "  mae_test = mean_absolute_error(y_test, y_pred_nonpri_test)\n",
        "  nmae_test = mae_test/np.mean(y_test)\n",
        "  nmae_nonpr_test.append(nmae_test)\n",
        "\n",
        "  mae_train = mean_absolute_error(y_train, y_pred_nonpri_train)\n",
        "  nmae_train = mae_train/np.mean(y_train)\n",
        "  nmae_nonpr_train.append(nmae_train)\n",
        "\n"
      ],
      "metadata": {
        "id": "TYX_JEsBqowH"
      },
      "execution_count": null,
      "outputs": []
    },
    {
      "cell_type": "code",
      "source": [
        "nmae_nonpr_train"
      ],
      "metadata": {
        "id": "Kdy_uaWVGAHc"
      },
      "execution_count": null,
      "outputs": []
    },
    {
      "cell_type": "code",
      "source": [
        "nmae_nonpr_test"
      ],
      "metadata": {
        "id": "P0aviVU6GDAT"
      },
      "execution_count": null,
      "outputs": []
    },
    {
      "cell_type": "code",
      "execution_count": null,
      "metadata": {
        "id": "7lpnBky47NkM"
      },
      "outputs": [],
      "source": [
        "# 1-rss/tss = tss-rss/tss\n",
        "# rss: sum((actual-pred)**2)\n",
        "# tss: sum((actual-mean_actual)**2)"
      ]
    },
    {
      "cell_type": "markdown",
      "metadata": {
        "id": "aWlPOt2DBRHB"
      },
      "source": [
        "# Linear Regression Private"
      ]
    },
    {
      "cell_type": "code",
      "execution_count": null,
      "metadata": {
        "id": "FRWeW-VHBWoz"
      },
      "outputs": [],
      "source": [
        "# from diffprivlib.models import LinearRegression\n",
        "\n",
        "# epsilons = np.linspace(10**-1,10**2,10**3)\n",
        "# r2 = []\n",
        "# mse_test_arr = []\n",
        "# mse_train_arr = []\n",
        "\n",
        "# for epsilon in epsilons:\n",
        "#     regr = LinearRegression(epsilon=epsilon, bounds_X=(0, 1), bounds_y=(0, 6257.0), random_state =1)\n",
        "#     regr.fit(x_train_encoded_scaled, y_train)\n",
        "#     y_pred_pri = regr.predict(x_test_encoded_scaled)\n",
        "#     y_pred_train_pri = regr.predict(x_train_encoded_scaled)\n",
        "#     r2.append(regr.score(x_test_encoded_scaled, y_test))\n",
        "#     mse_test_arr.append(mean_squared_error(y_pred_pri, y_test))\n",
        "#     mse_train_arr.append(mean_squared_error(y_pred_train_pri, y_train))"
      ]
    },
    {
      "cell_type": "markdown",
      "source": [
        "Linear Regression with Differential Privacy, Calculation of Normalised mean error for PM2.5"
      ],
      "metadata": {
        "id": "QhKWJ5fs3hYG"
      }
    },
    {
      "cell_type": "code",
      "execution_count": null,
      "metadata": {
        "id": "E43aPb2kLn2J"
      },
      "outputs": [],
      "source": [
        "from diffprivlib.models import LinearRegression\n",
        "from sklearn.metrics import mean_absolute_error\n",
        "from statistics import mean\n",
        "\n",
        "epsilons = np.linspace(10**-2,10**2,10**2)\n",
        "loss_prob = [0.1, 0.2, 0.3, 0.4, 0.5, 0.6, 0.7, 0.8, 0.9]\n",
        "nmae_pr_train = {}\n",
        "nmae_pr_test = {}\n",
        "gas='CO'\n",
        "\n",
        "for loss_p in loss_prob:\n",
        "  x_train_encoded_scaled,x_test_encoded_scaled,y_train, y_test=getDataAccordingToLossP(loss_p,gas)\n",
        "  train_error = {}\n",
        "  test_error = {}\n",
        "  for epsilon_idx in range(len(epsilons)):\n",
        "      regr_pri = LinearRegression(epsilon=epsilons[epsilon_idx], bounds_X=(0, 1), bounds_y=(0, 6257.0), random_state =1)\n",
        "      regr_pri.fit(x_train_encoded_scaled, y_train)\n",
        "\n",
        "      y_pred_pri_test = regr_pri.predict(x_test_encoded_scaled)\n",
        "      y_pred_pri_train = regr_pri.predict(x_train_encoded_scaled)\n",
        "\n",
        "      test_error[epsilons[epsilon_idx]] = mean_absolute_error( y_test, y_pred_pri_test)/np.mean(y_test)\n",
        "      train_error[epsilons[epsilon_idx]] = mean_absolute_error( y_train, y_pred_pri_train)/np.mean(y_train)\n",
        "\n",
        "      nmae_pr_train[loss_p] = train_error\n",
        "      nmae_pr_test[loss_p] = test_error"
      ]
    },
    {
      "cell_type": "code",
      "source": [
        "nmae_pr_test"
      ],
      "metadata": {
        "id": "BAte5EbvTLiy"
      },
      "execution_count": null,
      "outputs": []
    },
    {
      "cell_type": "code",
      "source": [
        "# ## Figuring out top 10 key,value (i.e., epsilon, error) for each loss probability\n",
        "# nmae_pr_train_sorted = {}\n",
        "# nmae_pr_test_sorted = {}\n",
        "\n",
        "# for loss_p in nmae_pr_train:\n",
        "#   nmae_pr_train_sorted[loss_p] = dict(sorted(nmae_pr_train[loss_p].items(), key = lambda x: x[1])[:1]) #sorting based on keys\n",
        "#   nmae_pr_test_sorted[loss_p] = dict(sorted(nmae_pr_test[loss_p].items(), key = lambda x: x[1])[:1])"
      ],
      "metadata": {
        "id": "a0YTcHixIqje"
      },
      "execution_count": null,
      "outputs": []
    },
    {
      "cell_type": "code",
      "source": [
        "# ## Figuring out top 10 key,value (i.e., epsilon, error) for each loss probability\n",
        "# nmae_pr_train_sorted_re = {}\n",
        "# nmae_pr_test_sorted_re = {}\n",
        "\n",
        "# for loss_p in nmae_pr_train:\n",
        "#   nmae_pr_train_sorted_re[loss_p] = dict(sorted(nmae_pr_train[loss_p].items(), key = lambda x: x[1], reverse=True)[:10]) #sorting based on keys\n",
        "#   nmae_pr_test_sorted_re[loss_p] = dict(sorted(nmae_pr_test[loss_p].items(), key = lambda x: x[1], reverse=True)[:10])"
      ],
      "metadata": {
        "id": "dVa6FazyLW4L"
      },
      "execution_count": null,
      "outputs": []
    },
    {
      "cell_type": "code",
      "source": [
        "# nmae_pr_test_sorted"
      ],
      "metadata": {
        "id": "vnLuITPONx2Y"
      },
      "execution_count": null,
      "outputs": []
    },
    {
      "cell_type": "markdown",
      "source": [
        "#### Preparing Graph Data"
      ],
      "metadata": {
        "id": "d5a-orhINmwm"
      }
    },
    {
      "cell_type": "code",
      "source": [
        "# [a[0] for a in [list(val.keys()) for key, val in nmae_pr_train_sorted.items()]]\n",
        "# [a[0] for a in [list(val.values()) for key, val in nmae_pr_train_sorted.items()]]"
      ],
      "metadata": {
        "id": "m_vF5R89OH1_"
      },
      "execution_count": null,
      "outputs": []
    },
    {
      "cell_type": "code",
      "source": [
        "loss_prob = [0.1, 0.2, 0.3, 0.4, 0.5, 0.6, 0.7, 0.8, 0.9]\n",
        "nmae_nonpr_train\n",
        "nmae_nonpr_test\n",
        "\n",
        "eps = [2.03,5.06,10.11,50.51,100.0]\n",
        "nmae_pri_test = {}\n",
        "\n",
        "for ep in eps:\n",
        "  for lp in loss_prob:\n",
        "    if ep in nmae_pri_test:\n",
        "      nmae_pri_test[ep].append(nmae_pr_test[lp][ep])\n",
        "    else:\n",
        "      nmae_pri_test[ep] = []\n",
        "      nmae_pri_test[ep].append(nmae_pr_test[lp][ep])\n",
        "\n",
        "nmae_pri_test['TL'] = nmae_nonpr_test\n",
        "# nmae_pr_train_sorted_eplison = [a[0] for a in [list(val.keys()) for key, val in nmae_pr_train_sorted.items()]]\n",
        "# nmae_pr_train_sorted_nmae = [a[0] for a in [list(val.values()) for key, val in nmae_pr_train_sorted.items()]]\n",
        "# nmae_pr_test_sorted_eplison = [a[0] for a in [list(val.keys()) for key, val in nmae_pr_test_sorted.items()]]\n",
        "# nmae_pr_test_sorted_nmae = [a[0] for a in [list(val.values()) for key, val in nmae_pr_test_sorted.items()]]"
      ],
      "metadata": {
        "id": "peL-6-8tKu8J"
      },
      "execution_count": null,
      "outputs": []
    },
    {
      "cell_type": "code",
      "source": [
        "nmae_pri_test"
      ],
      "metadata": {
        "id": "2MLzPBQbYzZ2"
      },
      "execution_count": null,
      "outputs": []
    },
    {
      "cell_type": "code",
      "source": [
        "import matplotlib.pyplot as plt\n",
        "\n",
        "plt.title(\"Air Seoul : CO\")\n",
        "x = np.arange(len(loss_prob))  # the label locations which is the range of loss probs 0.1, 0.3, 0.5, ...\n",
        "width = 0.12  # the width of the bars\n",
        "marker_list = ['x','o','s','^','v','+','*'] # s is for square\n",
        "color_list = ['r','g','b','c','k','y','m'] # m: magenta, : black\n",
        "t_list = ['EP-2.03', 'EP-5.06', 'EP-10.11', 'EP-50.51', 'EP-100.0']\n",
        "no_t_values = len(t_list)\n",
        "label_size= 14\n",
        "\n",
        "plt.style.use('seaborn-whitegrid')\n",
        "#rects1 = ax.bar(x - width/2, y[0], width, label = algo_list[0], hatch='-')\n",
        "# plt.bar(x,nmae_pri_test[0.01], width, label = t_list[0], hatch='O', color=color_list[0])\n",
        "plt.bar(x + width, nmae_pri_test[2.03], width, label = t_list[0], hatch='*', color=color_list[0])\n",
        "plt.bar(x + 2*width, nmae_pri_test[5.06], width, label = t_list[1], hatch='.', color=color_list[1])\n",
        "plt.bar(x + 3*width, nmae_pri_test[10.11], width, label = t_list[2], hatch='.', color=color_list[2])\n",
        "plt.bar(x + 4*width, nmae_pri_test[50.51], width, label = t_list[3], hatch='.', color=color_list[3])\n",
        "plt.bar(x + 5*width, nmae_pri_test[100.0], width, label = t_list[4], hatch='o', color=color_list[5])\n",
        "# plt.bar(x + 4*width, y[4], width, label = t_list[4], hatch='x', color=color_list[4])\n",
        "plt.bar(x + 6*width, nmae_pri_test['TL'], width, label = 'TL', hatch='-', color=color_list[4])\n",
        "'''\n",
        "plt.bar(x + 6*width, y[6], width, label = t_list[6], hatch='+', color=color_list[6])\n",
        "'''\n",
        "\n",
        "'''\n",
        "plt.xlabel(\"loss probability\", fontsize = 'x-large')\n",
        "plt.ylabel(\"normalized mean absolute error\",fontsize = 'x-large')\n",
        "'''\n",
        "plt.xlabel(\"loss probability\", fontsize = label_size)\n",
        "plt.ylabel(\"normalized mean absolute error\",fontsize = label_size)\n",
        "#plt.axis([0.0,1.0,0.0,1], fontsize = 'x-large' )\n",
        "temp_array = np.zeros((4,1))\n",
        "temp_array[0] = 0.0\n",
        "temp_array[1] =1.2\n",
        "temp_array[2] =0.0\n",
        "temp_array[3] = 6\n",
        "#print(temp_array)\n",
        "#plt.axis(temp_array, fontsize = 'x-large' )\n",
        "plt.axis(temp_array) #, fontsize = label_size+5\n",
        "\n",
        "# Add some text for labels, title and custom x-axis tick labels, etc.\n",
        "plt.xticks(x+7*width, loss_prob)\n",
        "plt.legend(loc='upper left', prop={'size':13})\n",
        "# supported values are 'best', 'upper right', 'upper left', 'lower left', 'lower right', 'right', 'center left', 'center right', 'lower center', 'upper center', 'center'\n",
        "plt.tight_layout()\n",
        "output_filename = gas+'_bars_varying_t_lossprob_vs_error.eps'\n",
        "plt.savefig(output_filename, bbox_inches = 'tight')\n",
        "plt.show()\n"
      ],
      "metadata": {
        "colab": {
          "base_uri": "https://localhost:8080/",
          "height": 543
        },
        "id": "zolsNzJlQkXv",
        "outputId": "3585ba93-6ac7-42d0-96a3-9b0f27b61ac5"
      },
      "execution_count": null,
      "outputs": [
        {
          "output_type": "stream",
          "name": "stderr",
          "text": [
            "<ipython-input-20-56e10390fd65>:12: MatplotlibDeprecationWarning: The seaborn styles shipped by Matplotlib are deprecated since 3.6, as they no longer correspond to the styles shipped by seaborn. However, they will remain available as 'seaborn-v0_8-<style>'. Alternatively, directly use the seaborn API instead.\n",
            "  plt.style.use('seaborn-whitegrid')\n"
          ]
        },
        {
          "output_type": "display_data",
          "data": {
            "text/plain": [
              "<Figure size 640x480 with 1 Axes>"
            ],
            "image/png": "[encoded data removed]"
          },
          "metadata": {}
        }
      ]
    },
    {
      "cell_type": "code",
      "execution_count": null,
      "metadata": {
        "colab": {
          "base_uri": "https://localhost:8080/",
          "height": 477
        },
        "id": "vQFdhvcHCPaZ",
        "outputId": "c258e166-9123-49c4-93ca-aa6bed5dec91"
      },
      "outputs": [
        {
          "data": {
            "text/plain": [
              "<matplotlib.legend.Legend at 0x7fe9dc0c0550>"
            ]
          },
          "execution_count": 20,
          "metadata": {},
          "output_type": "execute_result"
        },
        {
          "data": {
            "image/png": "[encoded data removed]",
            "text/plain": [
              "<Figure size 640x480 with 1 Axes>"
            ]
          },
          "metadata": {},
          "output_type": "display_data"
        }
      ],
      "source": [
        "# import matplotlib.pyplot as plt\n",
        "\n",
        "# plt.semilogx(epsilons, r2, label=\"Differentially private linear regression\", zorder=10)\n",
        "# plt.semilogx(epsilons, baseline * np.ones_like(epsilons), dashes=[2,2], label=\"Non-private baseline\", zorder=5)\n",
        "# plt.xlabel(\"epsilon\")\n",
        "# plt.ylabel(\"RSquare\")\n",
        "# plt.ylim(0.011999, 0.016)\n",
        "# plt.xlim(1, 100)\n",
        "# plt.legend(loc=2)"
      ]
    },
    {
      "cell_type": "code",
      "execution_count": null,
      "metadata": {
        "colab": {
          "base_uri": "https://localhost:8080/",
          "height": 477
        },
        "id": "3MbW25ophy9I",
        "outputId": "9522af69-3fc0-4f56-8154-a7dcb66394ad"
      },
      "outputs": [
        {
          "data": {
            "text/plain": [
              "<matplotlib.legend.Legend at 0x7fe9d12cea10>"
            ]
          },
          "execution_count": 21,
          "metadata": {},
          "output_type": "execute_result"
        },
        {
          "data": {
            "image/png": "[encoded data removed]",
            "text/plain": [
              "<Figure size 640x480 with 1 Axes>"
            ]
          },
          "metadata": {},
          "output_type": "display_data"
        }
      ],
      "source": [
        "# import matplotlib.pyplot as plt\n",
        "\n",
        "# plt.semilogx(epsilons, mse_test_arr, label=\"Differentially private linear regression\", zorder=10)\n",
        "# plt.semilogx(epsilons, mse * np.ones_like(epsilons), dashes=[2,2], label=\"Non-private baseline\", zorder=5)\n",
        "# plt.xlabel(\"epsilon\")\n",
        "# plt.ylabel(\"MSE\")\n",
        "# plt.ylim(0, 3000)\n",
        "# # plt.xlim(epsilons[0], epsilons[-9])\n",
        "# plt.legend(loc=2)"
      ]
    },
    {
      "cell_type": "code",
      "source": [
        "# import matplotlib.pyplot as plt\n",
        "\n",
        "# plt.semilogx(epsilons, nmae_test_arr, label=\"Differentially private linear regression\", zorder=10)\n",
        "# plt.semilogx(epsilons, nmae * np.ones_like(epsilons), dashes=[2,2], label=\"Non-private baseline\", zorder=5)\n",
        "# plt.xlabel(\"epsilon\")\n",
        "# plt.ylabel(\"NMAE\")\n",
        "# # plt.ylim(0, 3000)\n",
        "# # plt.xlim(epsilons[0], epsilons[-9])\n",
        "# plt.legend(loc=2)"
      ],
      "metadata": {
        "id": "o3lm6PpmVPsf"
      },
      "execution_count": null,
      "outputs": []
    },
    {
      "cell_type": "code",
      "execution_count": null,
      "metadata": {
        "id": "4j7jigKAqDPs"
      },
      "outputs": [],
      "source": [
        "plt.style.use('seaborn-whitegrid')\n",
        "#rects1 = ax.bar(x - width/2, y[0], width, label = algo_list[0], hatch='-')\n",
        "plt.bar(x,y[0], width, label = t_list[0], hatch='O', color=color_list[0])\n",
        "plt.bar(x + width, y[1], width, label = t_list[1], hatch='*', color=color_list[1])\n",
        "plt.bar(x + 2*width, y[2], width, label = t_list[2], hatch='.', color=color_list[2])\n",
        "plt.bar(x + 3*width, y[3], width, label = t_list[3], hatch='o', color=color_list[3])\n",
        "plt.bar(x + 4*width, y[4], width, label = t_list[4], hatch='x', color=color_list[4])\n",
        "plt.bar(x + 5*width, y[5], width, label = 'TL', hatch='-', color=color_list[5])\n",
        "'''"
      ]
    }
  ],
  "metadata": {
    "colab": {
      "collapsed_sections": [
        "tbK6r5gSizpN"
      ],
      "provenance": []
    },
    "kernelspec": {
      "display_name": "Python 3",
      "name": "python3"
    },
    "language_info": {
      "name": "python"
    }
  },
  "nbformat": 4,
  "nbformat_minor": 0
}